{
 "cells": [
  {
   "cell_type": "code",
   "execution_count": 1,
   "metadata": {},
   "outputs": [
    {
     "name": "stderr",
     "output_type": "stream",
     "text": [
      "C:\\Users\\seben\\AppData\\Local\\Packages\\PythonSoftwareFoundation.Python.3.11_qbz5n2kfra8p0\\LocalCache\\local-packages\\Python311\\site-packages\\keras\\src\\layers\\convolutional\\base_conv.py:107: UserWarning: Do not pass an `input_shape`/`input_dim` argument to a layer. When using Sequential models, prefer using an `Input(shape)` object as the first layer in the model instead.\n",
      "  super().__init__(activity_regularizer=activity_regularizer, **kwargs)\n"
     ]
    },
    {
     "name": "stdout",
     "output_type": "stream",
     "text": [
      "Epoch 1/5\n",
      "\u001b[1m1875/1875\u001b[0m \u001b[32m━━━━━━━━━━━━━━━━━━━━\u001b[0m\u001b[37m\u001b[0m \u001b[1m25s\u001b[0m 12ms/step - accuracy: 0.8920 - loss: 0.3451 - val_accuracy: 0.9828 - val_loss: 0.0526\n",
      "Epoch 2/5\n",
      "\u001b[1m1875/1875\u001b[0m \u001b[32m━━━━━━━━━━━━━━━━━━━━\u001b[0m\u001b[37m\u001b[0m \u001b[1m21s\u001b[0m 11ms/step - accuracy: 0.9852 - loss: 0.0484 - val_accuracy: 0.9885 - val_loss: 0.0369\n",
      "Epoch 3/5\n",
      "\u001b[1m1875/1875\u001b[0m \u001b[32m━━━━━━━━━━━━━━━━━━━━\u001b[0m\u001b[37m\u001b[0m \u001b[1m21s\u001b[0m 11ms/step - accuracy: 0.9904 - loss: 0.0312 - val_accuracy: 0.9880 - val_loss: 0.0374\n",
      "Epoch 4/5\n",
      "\u001b[1m1875/1875\u001b[0m \u001b[32m━━━━━━━━━━━━━━━━━━━━\u001b[0m\u001b[37m\u001b[0m \u001b[1m21s\u001b[0m 11ms/step - accuracy: 0.9918 - loss: 0.0263 - val_accuracy: 0.9923 - val_loss: 0.0263\n",
      "Epoch 5/5\n",
      "\u001b[1m1875/1875\u001b[0m \u001b[32m━━━━━━━━━━━━━━━━━━━━\u001b[0m\u001b[37m\u001b[0m \u001b[1m21s\u001b[0m 11ms/step - accuracy: 0.9941 - loss: 0.0201 - val_accuracy: 0.9875 - val_loss: 0.0418\n",
      "\u001b[1m313/313\u001b[0m \u001b[32m━━━━━━━━━━━━━━━━━━━━\u001b[0m\u001b[37m\u001b[0m \u001b[1m2s\u001b[0m 6ms/step - accuracy: 0.9822 - loss: 0.0594\n"
     ]
    },
    {
     "name": "stderr",
     "output_type": "stream",
     "text": [
      "WARNING:absl:You are saving your model as an HDF5 file via `model.save()` or `keras.saving.save_model(model)`. This file format is considered legacy. We recommend using instead the native Keras format, e.g. `model.save('my_model.keras')` or `keras.saving.save_model(model, 'my_model.keras')`. \n"
     ]
    },
    {
     "name": "stdout",
     "output_type": "stream",
     "text": [
      "Précision sur le test : 0.987500011920929\n"
     ]
    }
   ],
   "source": [
    "import tensorflow as tf\n",
    "from tensorflow.keras import datasets, layers, models\n",
    "\n",
    "# Charger le dataset MNIST\n",
    "(x_train, y_train), (x_test, y_test) = datasets.mnist.load_data()\n",
    "\n",
    "# Redimensionner les images pour ajouter la dimension \"canal\" et normaliser\n",
    "x_train = x_train.reshape(-1, 28, 28, 1).astype('float32') / 255.0\n",
    "x_test = x_test.reshape(-1, 28, 28, 1).astype('float32') / 255.0\n",
    "\n",
    "# Définir l'architecture du modèle CNN\n",
    "model = models.Sequential([\n",
    "    # Première couche convolutionnelle avec 32 filtres de taille 3x3\n",
    "    layers.Conv2D(32, kernel_size=(3, 3), activation='relu', input_shape=(28, 28, 1)),\n",
    "    layers.MaxPooling2D(pool_size=(2, 2)),\n",
    "\n",
    "    # Deuxième couche convolutionnelle avec 64 filtres\n",
    "    layers.Conv2D(64, kernel_size=(3, 3), activation='relu'),\n",
    "    layers.MaxPooling2D(pool_size=(2, 2)),\n",
    "\n",
    "    # Troisième couche convolutionnelle\n",
    "    layers.Conv2D(64, kernel_size=(3, 3), activation='relu'),\n",
    "    \n",
    "    # Aplatir les caractéristiques pour les passer à une couche dense\n",
    "    layers.Flatten(),\n",
    "    layers.Dense(64, activation='relu'),\n",
    "    layers.Dense(10, activation='softmax')  # 10 classes pour les chiffres de 0 à 9\n",
    "])\n",
    "\n",
    "# Compiler le modèle\n",
    "model.compile(optimizer='adam',\n",
    "              loss='sparse_categorical_crossentropy',\n",
    "              metrics=['accuracy'])\n",
    "\n",
    "# Entraîner le modèle\n",
    "model.fit(x_train, y_train, epochs=5, validation_data=(x_test, y_test))\n",
    "\n",
    "# Évaluer le modèle sur l'ensemble de test\n",
    "test_loss, test_acc = model.evaluate(x_test, y_test)\n",
    "print('Précision sur le test :', test_acc)\n",
    "\n",
    "# Sauvegarder le modèle en format HDF5\n",
    "model.save('mon_modele.h5')\n",
    "\n"
   ]
  },
  {
   "cell_type": "code",
   "execution_count": 15,
   "metadata": {},
   "outputs": [
    {
     "name": "stderr",
     "output_type": "stream",
     "text": [
      "WARNING:absl:Compiled the loaded model, but the compiled metrics have yet to be built. `model.compile_metrics` will be empty until you train or evaluate the model.\n"
     ]
    },
    {
     "name": "stdout",
     "output_type": "stream",
     "text": [
      "\u001b[1m1/1\u001b[0m \u001b[32m━━━━━━━━━━━━━━━━━━━━\u001b[0m\u001b[37m\u001b[0m \u001b[1m0s\u001b[0m 215ms/step\n",
      "\u001b[1m1/1\u001b[0m \u001b[32m━━━━━━━━━━━━━━━━━━━━\u001b[0m\u001b[37m\u001b[0m \u001b[1m0s\u001b[0m 94ms/step\n",
      "\u001b[1m1/1\u001b[0m \u001b[32m━━━━━━━━━━━━━━━━━━━━\u001b[0m\u001b[37m\u001b[0m \u001b[1m0s\u001b[0m 71ms/step\n",
      "\u001b[1m1/1\u001b[0m \u001b[32m━━━━━━━━━━━━━━━━━━━━\u001b[0m\u001b[37m\u001b[0m \u001b[1m0s\u001b[0m 89ms/step\n",
      "\u001b[1m1/1\u001b[0m \u001b[32m━━━━━━━━━━━━━━━━━━━━\u001b[0m\u001b[37m\u001b[0m \u001b[1m0s\u001b[0m 95ms/step\n"
     ]
    }
   ],
   "source": [
    "import tkinter as tk\n",
    "from tkinter import messagebox\n",
    "from PIL import Image, ImageDraw\n",
    "import numpy as np\n",
    "import tensorflow as tf\n",
    "\n",
    "class DrawingApp(tk.Tk):\n",
    "    def __init__(self, model):\n",
    "        super().__init__()\n",
    "        self.title(\"Reconnaissance de Chiffres\")\n",
    "        self.model = model\n",
    "        self.canvas_width = 200\n",
    "        self.canvas_height = 200\n",
    "\n",
    "        # Création du canevas pour dessiner\n",
    "        self.canvas = tk.Canvas(self, width=self.canvas_width, height=self.canvas_height, bg='white')\n",
    "        self.canvas.pack(padx=10, pady=10)\n",
    "\n",
    "        # Bouton pour prédire le chiffre\n",
    "        self.btn_predict = tk.Button(self, text=\"Prédire\", command=self.predict_digit)\n",
    "        self.btn_predict.pack(side='left', padx=10)\n",
    "\n",
    "        # Bouton pour effacer le dessin\n",
    "        self.btn_clear = tk.Button(self, text=\"Effacer\", command=self.clear_canvas)\n",
    "        self.btn_clear.pack(side='right', padx=10)\n",
    "\n",
    "        # Liaison de l'événement de dessin\n",
    "        self.canvas.bind(\"<B1-Motion>\", self.draw)\n",
    "        self.canvas.bind(\"<ButtonRelease-1>\", self.reset)\n",
    "\n",
    "        # Création d'une image PIL pour pouvoir la traiter ensuite\n",
    "        self.image1 = Image.new(\"L\", (self.canvas_width, self.canvas_height), color=255)\n",
    "        self.draw1 = ImageDraw.Draw(self.image1)\n",
    "        self.last_x, self.last_y = None, None\n",
    "\n",
    "    def draw(self, event):\n",
    "        x, y = event.x, event.y\n",
    "        if self.last_x is not None and self.last_y is not None:\n",
    "            # Dessiner sur le canevas Tkinter\n",
    "            self.canvas.create_line(self.last_x, self.last_y, x, y, fill=\"black\", width=8)\n",
    "            # Dessiner sur l'image PIL\n",
    "            self.draw1.line([self.last_x, self.last_y, x, y], fill=0, width=8)\n",
    "        self.last_x, self.last_y = x, y\n",
    "\n",
    "    def reset(self, event):\n",
    "        self.last_x, self.last_y = None, None\n",
    "\n",
    "    def clear_canvas(self):\n",
    "        self.canvas.delete(\"all\")\n",
    "        self.image1 = Image.new(\"L\", (self.canvas_width, self.canvas_height), color=255)\n",
    "        self.draw1 = ImageDraw.Draw(self.image1)\n",
    "\n",
    "    def predict_digit(self):\n",
    "        # Prétraitement de l'image :\n",
    "        # Redimensionner l'image en 28x28 pixels\n",
    "        img = self.image1.resize((28, 28))\n",
    "        # Convertir en tableau numpy\n",
    "        img_array = np.array(img)\n",
    "        # Inverser les couleurs pour correspondre aux images MNIST (fond noir, chiffre blanc)\n",
    "        img_array = 255 - img_array\n",
    "        # Normaliser les valeurs entre 0 et 1\n",
    "        img_array = img_array / 255.0\n",
    "        # Reshape pour le modèle (1, 28, 28)\n",
    "        img_array = img_array.reshape(1, 28, 28)\n",
    "\n",
    "        # Faire la prédiction avec le modèle\n",
    "        prediction = self.model.predict(img_array)\n",
    "        predicted_digit = np.argmax(prediction)\n",
    "\n",
    "        # Afficher le résultat\n",
    "        messagebox.showinfo(\"Résultat\", f\"Le chiffre prédit est : {predicted_digit}\")\n",
    "\n",
    "def main():\n",
    "    # Charger le modèle sauvegardé (par exemple 'mon_modele.h5')\n",
    "    model = tf.keras.models.load_model(\"mon_modele.h5\")\n",
    "    app = DrawingApp(model)\n",
    "    app.mainloop()\n",
    "\n",
    "if __name__ == \"__main__\":\n",
    "    main()\n"
   ]
  }
 ],
 "metadata": {
  "kernelspec": {
   "display_name": "Python 3",
   "language": "python",
   "name": "python3"
  },
  "language_info": {
   "codemirror_mode": {
    "name": "ipython",
    "version": 3
   },
   "file_extension": ".py",
   "mimetype": "text/x-python",
   "name": "python",
   "nbconvert_exporter": "python",
   "pygments_lexer": "ipython3",
   "version": "3.11.9"
  }
 },
 "nbformat": 4,
 "nbformat_minor": 2
}
