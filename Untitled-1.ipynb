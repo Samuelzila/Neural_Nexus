{
 "cells": [
  {
   "cell_type": "code",
   "execution_count": 4,
   "metadata": {},
   "outputs": [
    {
     "name": "stdout",
     "output_type": "stream",
     "text": [
      "Epoch 1/10\n",
      "\u001b[1m1875/1875\u001b[0m \u001b[32m━━━━━━━━━━━━━━━━━━━━\u001b[0m\u001b[37m\u001b[0m \u001b[1m193s\u001b[0m 103ms/step - accuracy: 0.9071 - loss: 0.3038\n",
      "Epoch 2/10\n",
      "\u001b[1m1875/1875\u001b[0m \u001b[32m━━━━━━━━━━━━━━━━━━━━\u001b[0m\u001b[37m\u001b[0m \u001b[1m188s\u001b[0m 100ms/step - accuracy: 0.9730 - loss: 0.0869\n",
      "Epoch 3/10\n",
      "\u001b[1m1875/1875\u001b[0m \u001b[32m━━━━━━━━━━━━━━━━━━━━\u001b[0m\u001b[37m\u001b[0m \u001b[1m189s\u001b[0m 101ms/step - accuracy: 0.9817 - loss: 0.0628\n",
      "Epoch 4/10\n",
      "\u001b[1m1875/1875\u001b[0m \u001b[32m━━━━━━━━━━━━━━━━━━━━\u001b[0m\u001b[37m\u001b[0m \u001b[1m188s\u001b[0m 100ms/step - accuracy: 0.9864 - loss: 0.0438\n",
      "Epoch 5/10\n",
      "\u001b[1m1875/1875\u001b[0m \u001b[32m━━━━━━━━━━━━━━━━━━━━\u001b[0m\u001b[37m\u001b[0m \u001b[1m189s\u001b[0m 101ms/step - accuracy: 0.9871 - loss: 0.0416\n",
      "Epoch 6/10\n",
      "\u001b[1m1875/1875\u001b[0m \u001b[32m━━━━━━━━━━━━━━━━━━━━\u001b[0m\u001b[37m\u001b[0m \u001b[1m188s\u001b[0m 100ms/step - accuracy: 0.9903 - loss: 0.0342\n",
      "Epoch 7/10\n",
      "\u001b[1m1875/1875\u001b[0m \u001b[32m━━━━━━━━━━━━━━━━━━━━\u001b[0m\u001b[37m\u001b[0m \u001b[1m188s\u001b[0m 100ms/step - accuracy: 0.9916 - loss: 0.0272\n",
      "Epoch 8/10\n",
      "\u001b[1m1875/1875\u001b[0m \u001b[32m━━━━━━━━━━━━━━━━━━━━\u001b[0m\u001b[37m\u001b[0m \u001b[1m188s\u001b[0m 100ms/step - accuracy: 0.9925 - loss: 0.0272\n",
      "Epoch 9/10\n",
      "\u001b[1m1875/1875\u001b[0m \u001b[32m━━━━━━━━━━━━━━━━━━━━\u001b[0m\u001b[37m\u001b[0m \u001b[1m188s\u001b[0m 100ms/step - accuracy: 0.9935 - loss: 0.0226\n",
      "Epoch 10/10\n",
      "\u001b[1m1875/1875\u001b[0m \u001b[32m━━━━━━━━━━━━━━━━━━━━\u001b[0m\u001b[37m\u001b[0m \u001b[1m189s\u001b[0m 101ms/step - accuracy: 0.9942 - loss: 0.0196\n"
     ]
    },
    {
     "name": "stderr",
     "output_type": "stream",
     "text": [
      "WARNING:absl:You are saving your model as an HDF5 file via `model.save()` or `keras.saving.save_model(model)`. This file format is considered legacy. We recommend using instead the native Keras format, e.g. `model.save('my_model.keras')` or `keras.saving.save_model(model, 'my_model.keras')`. \n"
     ]
    },
    {
     "name": "stdout",
     "output_type": "stream",
     "text": [
      "Model saved successfully!\n"
     ]
    }
   ],
   "source": [
    "import tensorflow as tf\n",
    "from tensorflow import keras\n",
    "import numpy as np\n",
    "\n",
    "\n",
    "# Load the MNIST dataset\n",
    "(x_train, y_train), (x_test, y_test) = keras.datasets.mnist.load_data()\n",
    "\n",
    "# Normalize the data\n",
    "x_train, x_test = x_train / 255.0, x_test / 255.0\n",
    "\n",
    "# Define a simple neural network\n",
    "model = keras.Sequential([\n",
    "    keras.layers.Flatten(input_shape=(28, 28)),\n",
    "    keras.layers.Dense(1024, activation='relu'),\n",
    "    keras.layers.Dense(1024, activation='relu'),\n",
    "    keras.layers.Dense(128, activation='relu'),\n",
    "    \n",
    "    keras.layers.Dense(10, activation='softmax')\n",
    "])\n",
    "\n",
    "# Compile the model\n",
    "model.compile(optimizer='adam',\n",
    "              loss='sparse_categorical_crossentropy',\n",
    "              metrics=['accuracy'])\n",
    "\n",
    "# Train the model\n",
    "model.fit(x_train, y_train, epochs=10, verbose=1)\n",
    "\n",
    "# Save the trained model\n",
    "model.save(\"mnist_model.h5\")  # Saves the model in HDF5 format\n",
    "print(\"Model saved successfully!\")\n"
   ]
  },
  {
   "cell_type": "code",
   "execution_count": 5,
   "metadata": {},
   "outputs": [
    {
     "name": "stderr",
     "output_type": "stream",
     "text": [
      "WARNING:absl:Compiled the loaded model, but the compiled metrics have yet to be built. `model.compile_metrics` will be empty until you train or evaluate the model.\n"
     ]
    },
    {
     "name": "stdout",
     "output_type": "stream",
     "text": [
      "Model loaded successfully!\n",
      "1010\n",
      "778\n",
      "\u001b[1m1/1\u001b[0m \u001b[32m━━━━━━━━━━━━━━━━━━━━\u001b[0m\u001b[37m\u001b[0m \u001b[1m0s\u001b[0m 102ms/step\n"
     ]
    },
    {
     "data": {
      "image/png": "[encoded data removed]",
      "text/plain": [
       "<Figure size 640x480 with 1 Axes>"
      ]
     },
     "metadata": {},
     "output_type": "display_data"
    }
   ],
   "source": [
    "import tensorflow as tf\n",
    "from tensorflow import keras\n",
    "import numpy as np\n",
    "import matplotlib.pyplot as plt\n",
    "import random\n",
    "\n",
    "# Load the trained model\n",
    "model = keras.models.load_model(\"mnist_model.h5\")\n",
    "print(\"Model loaded successfully!\")\n",
    "\n",
    "# Load MNIST test data\n",
    "(_, _), (x_test, y_test) = keras.datasets.mnist.load_data()\n",
    "x_test = x_test / 255.0  # Normalize\n",
    "\n",
    "# Choose a digit to predict\n",
    "target_digit = random.randint(0,9) # Change this to any number (0-9)\n",
    "\n",
    "# Find an image of the target digit\n",
    "matching_indices = np.where(y_test == target_digit)[0]\n",
    "if len(matching_indices) == 0:\n",
    "    print(\"No matching images found!\")\n",
    "else:\n",
    "    random_number = random.randint(0, len(matching_indices) - 1)\n",
    "    index = matching_indices[(random_number)]  # Take the first one\n",
    "    print(len(matching_indices))\n",
    "    print(random_number)\n",
    "\n",
    "    # Make a prediction\n",
    "    predictions = model.predict(np.array([x_test[index]]))\n",
    "    predicted_label = np.argmax(predictions[0])\n",
    "\n",
    "    # Show the image and prediction\n",
    "    plt.imshow(x_test[index], cmap=plt.cm.binary)\n",
    "    plt.title(f\"Predicted: {predicted_label}, Actual: {y_test[index]}\")\n",
    "    plt.show()"
   ]
  },
  {
   "cell_type": "code",
   "execution_count": 6,
   "metadata": {},
   "outputs": [
    {
     "name": "stderr",
     "output_type": "stream",
     "text": [
      "WARNING:absl:Compiled the loaded model, but the compiled metrics have yet to be built. `model.compile_metrics` will be empty until you train or evaluate the model.\n"
     ]
    },
    {
     "name": "stdout",
     "output_type": "stream",
     "text": [
      "Loaded original model.\n",
      "\u001b[1m1/1\u001b[0m \u001b[32m━━━━━━━━━━━━━━━━━━━━\u001b[0m\u001b[37m\u001b[0m \u001b[1m0s\u001b[0m 94ms/step\n",
      "Le modèle prédit : 2\n",
      "Confiance : 1.0000\n"
     ]
    },
    {
     "data": {
      "image/png": "[encoded data removed]",
      "text/plain": [
       "<Figure size 640x480 with 1 Axes>"
      ]
     },
     "metadata": {},
     "output_type": "display_data"
    },
    {
     "name": "stdout",
     "output_type": "stream",
     "text": [
      "Classe 0: 0.00%\n",
      "Classe 1: 0.00%\n",
      "Classe 2: 100.00%\n",
      "Classe 3: 0.00%\n",
      "Classe 4: 0.00%\n",
      "Classe 5: 0.00%\n",
      "Classe 6: 0.00%\n",
      "Classe 7: 0.00%\n",
      "Classe 8: 0.00%\n",
      "Classe 9: 0.00%\n",
      "Mise à jour du modèle avec le bon label : 4\n",
      "Entrée invalide. Aucune mise à jour effectuée.\n"
     ]
    }
   ],
   "source": [
    "import tensorflow as tf\n",
    "import numpy as np\n",
    "from PIL import Image\n",
    "import matplotlib.pyplot as plt\n",
    "\n",
    "# Ensure Eager Execution is enabled\n",
    "tf.config.run_functions_eagerly(True)\n",
    "\n",
    "# Try loading the updated model if it exists, otherwise load the original model\n",
    "model_path = \"mnist_model_updated.h5\"\n",
    "try:\n",
    "    model = tf.keras.models.load_model(model_path)\n",
    "    print(\"Loaded updated model.\")\n",
    "except:\n",
    "    model = tf.keras.models.load_model(\"mnist_model.h5\")\n",
    "    print(\"Loaded original model.\")\n",
    "\n",
    "# Demander à l'utilisateur de fournir le chemin de l'image\n",
    "image_path = input(\"Entrez le chemin de l'image à prédire : \").strip().strip('\"')\n",
    "\n",
    "# Charger l'image\n",
    "image = Image.open(image_path)\n",
    "\n",
    "# Redimensionner l'image en 28x28\n",
    "image = image.resize((28, 28))\n",
    "\n",
    "# Convertir l'image en niveaux de gris\n",
    "image = image.convert(\"L\")\n",
    "\n",
    "# Convertir en tableau numpy\n",
    "image_array = np.array(image)\n",
    "\n",
    "# Normaliser l'image (comme lors de l'entraînement)\n",
    "image_array = image_array / 255.0\n",
    "\n",
    "# Adapter la forme de l'image pour correspondre au modèle (28x28x1)\n",
    "image_array = np.expand_dims(image_array, axis=0)  # Ajouter la dimension batch\n",
    "image_array = np.expand_dims(image_array, axis=-1)  # Ajouter la dimension canal\n",
    "\n",
    "# Faire une prédiction avec le modèle\n",
    "predictions = model.predict(image_array)\n",
    "\n",
    "# Obtenir le label prédit\n",
    "predicted_label = np.argmax(predictions[0])\n",
    "\n",
    "# Obtenir la confiance de la prédiction\n",
    "confidence = np.max(predictions[0])\n",
    "\n",
    "# Afficher le résultat\n",
    "print(f\"Le modèle prédit : {predicted_label}\")\n",
    "print(f\"Confiance : {confidence:.4f}\")\n",
    "\n",
    "# Afficher l'image avec la prédiction\n",
    "plt.imshow(image_array[0].squeeze(), cmap=plt.cm.binary)\n",
    "plt.title(f\"Prédiction : {predicted_label} (Confiance : {confidence:.4f})\")\n",
    "plt.show()\n",
    "\n",
    "# Demander à l'utilisateur si la prédiction est correcte\n",
    "correct_label = input(f\"Le modèle a prédit {predicted_label}. Si incorrect, entrez le bon chiffre (0-9), sinon appuyez sur Entrée : \")\n",
    "for i, prob in enumerate(predictions[0]):\n",
    "    print(f\"Classe {i}: {prob * 100:.2f}%\")\n",
    "    \n",
    "    \n",
    "if correct_label.strip() != \"\":\n",
    "    try:\n",
    "        correct_label = int(correct_label)\n",
    "        if 0 <= correct_label <= 9:\n",
    "            print(f\"Mise à jour du modèle avec le bon label : {correct_label}\")\n",
    "\n",
    "            # Préparer les données pour l'entraînement\n",
    "            x_train_new = np.array([image_array.squeeze()])  # Reshape en (28,28)\n",
    "            y_train_new = np.array([correct_label])  # Label correct\n",
    "\n",
    "            # Réentraîner le modèle sur cet exemple unique\n",
    "            model.fit(x_train_new, y_train_new, epochs=1, verbose=2)\n",
    "\n",
    "            # Sauvegarder le modèle mis à jour\n",
    "            model.save(model_path)\n",
    "            print(\"Modèle mis à jour et sauvegardé !\")\n",
    "        else:\n",
    "            print(\"Label invalide. Aucune mise à jour effectuée.\")\n",
    "    except ValueError:\n",
    "        print(\"Entrée invalide. Aucune mise à jour effectuée.\")\n",
    "else:\n",
    "    print(\"Aucune mise à jour nécessaire. La prédiction était correcte.\")\n",
    "\n"
   ]
  }
 ],
 "metadata": {
  "kernelspec": {
   "display_name": "Python 3",
   "language": "python",
   "name": "python3"
  },
  "language_info": {
   "codemirror_mode": {
    "name": "ipython",
    "version": 3
   },
   "file_extension": ".py",
   "mimetype": "text/x-python",
   "name": "python",
   "nbconvert_exporter": "python",
   "pygments_lexer": "ipython3",
   "version": "3.11.9"
  }
 },
 "nbformat": 4,
 "nbformat_minor": 2
}
